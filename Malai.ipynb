{
  "nbformat": 4,
  "nbformat_minor": 0,
  "metadata": {
    "colab": {
      "name": "Malai.ipynb",
      "provenance": [],
      "collapsed_sections": [],
      "include_colab_link": true
    },
    "kernelspec": {
      "name": "python3",
      "display_name": "Python 3"
    }
  },
  "cells": [
    {
      "cell_type": "markdown",
      "metadata": {
        "id": "view-in-github",
        "colab_type": "text"
      },
      "source": [
        "<a href=\"https://colab.research.google.com/github/RohanViswanathan/FRC-Infinite-Recharge-Balancing-App/blob/master/Malai.ipynb\" target=\"_parent\"><img src=\"https://colab.research.google.com/assets/colab-badge.svg\" alt=\"Open In Colab\"/></a>"
      ]
    },
    {
      "cell_type": "markdown",
      "metadata": {
        "id": "SKFj7GtxmtMP",
        "colab_type": "text"
      },
      "source": [
        "Pulling Info From Firebase"
      ]
    },
    {
      "cell_type": "code",
      "metadata": {
        "id": "RTMRkuMik0Rl",
        "colab_type": "code",
        "outputId": "12e7c5b3-e8f7-4304-bf3a-f261ff954570",
        "colab": {
          "base_uri": "https://localhost:8080/",
          "height": 34
        }
      },
      "source": [
        "import firebase_admin\n",
        "from firebase_admin import credentials\n",
        "from firebase_admin import db\n",
        "\n",
        "cred = credentials.Certificate(\"/content/project-malai-firebase-adminsdk-6w258-06015654e5.json\")\n",
        "\n",
        "firebase_admin.initialize_app(cred, {\n",
        "    'databaseURL': 'https://project-malai.firebaseio.com/'\n",
        "})"
      ],
      "execution_count": 0,
      "outputs": [
        {
          "output_type": "execute_result",
          "data": {
            "text/plain": [
              "<firebase_admin.App at 0x7f6ac19fbfd0>"
            ]
          },
          "metadata": {
            "tags": []
          },
          "execution_count": 9
        }
      ]
    },
    {
      "cell_type": "code",
      "metadata": {
        "id": "MvxmF_nYomHd",
        "colab_type": "code",
        "colab": {}
      },
      "source": [
        "def checkIfSameItem (userEnteredItem, actualItemName, actualItemPath):\n",
        "  itemTags = db.reference(actualItemPath+\"/tags\").get()\n",
        "  if \",\" in itemTags:\n",
        "    tagArray = itemTags.split(\",\")\n",
        "    for tag in tagArray:\n",
        "      if userEnteredItem in tag:\n",
        "        return True\n",
        "  else:\n",
        "    if userEnteredItem in itemTags:\n",
        "      return True\n",
        "  \n",
        "  if userEnteredItem in actualItemName:\n",
        "    return True\n",
        "\n",
        "  return False\n",
        "  "
      ],
      "execution_count": 0,
      "outputs": []
    },
    {
      "cell_type": "code",
      "metadata": {
        "id": "-pNlodw1mMlp",
        "colab_type": "code",
        "colab": {}
      },
      "source": [
        "def getAisleWithItem (storeID, itemName):\n",
        "  aislesRef = db.reference(\"/stores/\"+storeID+\"/aisles\")\n",
        "  aisles = aislesRef.get() #dict of aisles\n",
        "\n",
        "  aisleIDs = list(aisles.keys())\n",
        "\n",
        "  for aisleID in aisleIDs:\n",
        "    items = db.reference(\"/stores/\"+storeID+\"/aisles/\"+aisleID+\"/items\").get()\n",
        "    actualItemNames = list(items.keys())\n",
        "\n",
        "    for actualItem in actualItemNames:\n",
        "      if checkIfSameItem(itemName, actualItem, \"/stores/\"+storeID+\"/aisles/\"+aisleID+\"/items/\"+actualItem):\n",
        "        quantity = db.reference(\"/stores/\"+storeID+\"/aisles/\"+aisleID+\"/items/\"+actualItem+\"/quantity\").get()\n",
        "        return str(aisleID) + \":\" + str(quantity)\n",
        "    \n",
        "  return \"-1\""
      ],
      "execution_count": 0,
      "outputs": []
    },
    {
      "cell_type": "code",
      "metadata": {
        "id": "lRlfJE_h5WNR",
        "colab_type": "code",
        "colab": {}
      },
      "source": [
        "def storesWithinDistance (userLatitude, userLongitude, willingTime):\n",
        "  storesWithin = []\n",
        "\n",
        "  allStores = db.reference(\"/stores\").get()\n",
        "  allStoreIDs = list(allStores.keys())\n",
        "\n",
        "  for storeID in allStoreIDs:\n",
        "    #PUT GOOGLE MAPS DISTANCE MATRIX API CALCULATIONS IN HERE - nvm\n",
        "    storeLat = db.reference(\"/stores/\"+storeID+\"/lat\").get()\n",
        "    storeLong = db.reference(\"/stores/\"+storeID+\"/long\").get()\n",
        "\n",
        "    distance = calculate_distance(userLatitude,userLongitude,storeLat,storeLong)\n",
        "\n",
        "    distanceInMiles = distance*69.0 #degrees to miles\n",
        "\n",
        "    storesWithin.append(storeID)\n",
        "\n",
        "  return storesWithin"
      ],
      "execution_count": 0,
      "outputs": []
    },
    {
      "cell_type": "code",
      "metadata": {
        "id": "0h8cSvPLfwtL",
        "colab_type": "code",
        "colab": {}
      },
      "source": [
        "def calculatePotentialTrips (userID):\n",
        "  userLat = db.reference(\"/users/\"+userID+\"/latitude/\")\n",
        "  userLong = db.reference(\"/users/\"+userID+\"/longitude/\")\n",
        "  willingTimeToTravel = db.reference(\"/users/\"+userID+\"/willingTimeToTravel/\")\n",
        "\n",
        "  storesToCheck = storesWithinDistance(userLat, userLong, willingTimeToTravel)\n",
        "\n",
        "  avaliableStores = \"\"\n",
        "\n",
        "  shoppingList = db.reference(\"/users/\"+userID+\"/shoppingList/\").get()\n",
        "  itemNames = list(shoppingList.keys())\n",
        "\n",
        "  for store in storesToCheck:\n",
        "    itemsAvailable = []\n",
        "\n",
        "    for itemName in itemNames:\n",
        "      aisleAndQuantity = getAisleWithItem(store, itemName)\n",
        "\n",
        "      if (aisleAndQuantity != \"-1\"):\n",
        "         itemsAvailable.append(itemName)\n",
        "\n",
        "    percent = float(len(itemsAvailable))/float(len(itemNames))\n",
        "\n",
        "    storeRef = db.reference(\"/users/\"+userID+\"/potentialTrips/\"+store)\n",
        "    storeRef.update({\n",
        "        'items': str(itemsAvailable)\n",
        "    })\n",
        "\n",
        "    storeRef.update({\n",
        "        'percentOfList': str(percent)\n",
        "    })"
      ],
      "execution_count": 0,
      "outputs": []
    },
    {
      "cell_type": "code",
      "metadata": {
        "id": "efLwaGvC43xD",
        "colab_type": "code",
        "colab": {}
      },
      "source": [
        "def calculate_distance(x1, y1, x2, y2):\n",
        "    return math.sqrt((math.pow(x2-x1, 2)) + (math.pow(y2-y1, 2))) "
      ],
      "execution_count": 0,
      "outputs": []
    },
    {
      "cell_type": "code",
      "metadata": {
        "id": "_FhUErFd6u_D",
        "colab_type": "code",
        "colab": {}
      },
      "source": [
        "def getPersonAisles(personID, storeID):\n",
        "    itemsRef = db.reference(\"/users/\"+personID+\"/trips/\"+storeID+\"/items\")\n",
        "    items = itemsRef.get()\n",
        "    itemIDs = list(items.keys())\n",
        "    aisles = []\n",
        "    for itemID in itemIDs:\n",
        "        aisles.append(db.reference(\"/stores/\"+storeID+\"/trips/\"+storeID+\"/items/\"+itemID).get())\n",
        "    return aisles"
      ],
      "execution_count": 0,
      "outputs": []
    },
    {
      "cell_type": "code",
      "metadata": {
        "id": "FYQq5wccMbw9",
        "colab_type": "code",
        "colab": {}
      },
      "source": [
        "def getPersonAvailableTimes(personID):\n",
        "    availableTimes = []\n",
        "    availableTimesString = \"\"\n",
        "    availableTimesString = db.reference(\"/users/\"+personID+\"/availableTimes\").get().split(\",\")\n",
        "    for i in availableTimesString:\n",
        "      availableTimes.append(i)\n",
        "    return availableTimes"
      ],
      "execution_count": 0,
      "outputs": []
    },
    {
      "cell_type": "code",
      "metadata": {
        "id": "dT5f4o4qZC96",
        "colab_type": "code",
        "colab": {}
      },
      "source": [
        "def getPeopleScheduledInTimeSlot(storeID, timeSlot):\n",
        "    users = []\n",
        "    usersString = \"\"\n",
        "    usersString = db.reference(\"/stores/\"+storeID+\"/times/\"+timeSlot).get().split(\",\")\n",
        "    for i in usersString:\n",
        "        users.append(i)\n",
        "    return users"
      ],
      "execution_count": 0,
      "outputs": []
    },
    {
      "cell_type": "code",
      "metadata": {
        "id": "EPCgecRpZsj7",
        "colab_type": "code",
        "colab": {}
      },
      "source": [
        "def getNumPeopleScheduledInTimeSlot(storeID, timeSlot):\n",
        "    users = []\n",
        "    users = getPeopleScheduledInTimeSlot(storeID, timeSlot)\n",
        "    return len(users)"
      ],
      "execution_count": 0,
      "outputs": []
    },
    {
      "cell_type": "code",
      "metadata": {
        "id": "FwImIxO1hcS7",
        "colab_type": "code",
        "colab": {}
      },
      "source": [
        "def recommendTimes(personID, storeID, maxNumPeopleInStore, greenNumPeoplePerAisle, yellowNumPeoplePerAisle):\n",
        "    timeStatusRef = db.reference(\"/users/\"+personID+\"/potentialTrips/\"+storeID+\"/times\")\n",
        "    availableTimes = []\n",
        "    availableTimes = getPersonAvailableTimes(personID)\n",
        "    peopleInTimeSlot = []\n",
        "    peopleInTimeSlot = getPeopleScheduledInTimeSlot(personID)\n",
        "    userAisles = []\n",
        "    userAisles = getPersonAisles(personID, storeID)\n",
        "    green = false\n",
        "    for time in availableTimes:\n",
        "        if (getNumPeopleScheduledInTimeSlot(storeID, time) > maxNumPeopleInStore):\n",
        "            timeStatusRef.update({\n",
        "                str(time): \"red\"\n",
        "            })\n",
        "        else:\n",
        "            for aisle in userAisles:\n",
        "                n = 0\n",
        "                for person in peopleInTimeSlot:\n",
        "                    personAisles = getPersonAisles(person)\n",
        "                    if aisle in personAisles:\n",
        "                        n = n+1\n",
        "                if n <= greenNumPeoplePerAisle:\n",
        "                    gyr = true\n",
        "                elif n > greenNumPeoplePerAisle and n <= yellowNumPeoplePerAisle:\n",
        "                    timeStatusRef.update({\n",
        "                        str(time): \"yellow\"\n",
        "                    })\n",
        "                    green = false\n",
        "                    break\n",
        "                else:\n",
        "                    timeStatusRef.update({\n",
        "                        str(time): \"red\"\n",
        "                    })\n",
        "                    green = false\n",
        "                    break\n",
        "            if green:\n",
        "                timeStatusRef.update({\n",
        "                    str(time): \"green\"\n",
        "                })"
      ],
      "execution_count": 0,
      "outputs": []
    },
    {
      "cell_type": "code",
      "metadata": {
        "id": "nM_7wjhDhepq",
        "colab_type": "code",
        "colab": {}
      },
      "source": [
        ""
      ],
      "execution_count": 0,
      "outputs": []
    }
  ]
}